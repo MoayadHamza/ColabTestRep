{
  "nbformat": 4,
  "nbformat_minor": 0,
  "metadata": {
    "colab": {
      "provenance": [],
      "authorship_tag": "ABX9TyMnAWioO7S038/y9xlY4Nbm",
      "include_colab_link": true
    },
    "kernelspec": {
      "name": "python3",
      "display_name": "Python 3"
    },
    "language_info": {
      "name": "python"
    }
  },
  "cells": [
    {
      "cell_type": "markdown",
      "metadata": {
        "id": "view-in-github",
        "colab_type": "text"
      },
      "source": [
        "<a href=\"https://colab.research.google.com/github/MoayadHamza/ColabTestRep/blob/main/Copy_of_MyFirstColabNotebook.ipynb\" target=\"_parent\"><img src=\"https://colab.research.google.com/assets/colab-badge.svg\" alt=\"Open In Colab\"/></a>"
      ]
    },
    {
      "cell_type": "code",
      "execution_count": null,
      "metadata": {
        "colab": {
          "base_uri": "https://localhost:8080/"
        },
        "id": "WMG_XNtL7vpo",
        "outputId": "17117f34-76eb-4e89-a919-ea18c0079cbf"
      },
      "outputs": [
        {
          "output_type": "stream",
          "name": "stdout",
          "text": [
            "Sat Jan 20 17:44:16 2024\n"
          ]
        }
      ],
      "source": [
        "import time\n",
        "print(time.ctime())\n"
      ]
    },
    {
      "cell_type": "code",
      "source": [
        "time.sleep(5)\n",
        "print(time.ctime())"
      ],
      "metadata": {
        "colab": {
          "base_uri": "https://localhost:8080/"
        },
        "id": "LwBLg5do9XpU",
        "outputId": "2f04bb29-efff-4e1f-9a56-e77f160dfe37"
      },
      "execution_count": null,
      "outputs": [
        {
          "output_type": "stream",
          "name": "stdout",
          "text": [
            "Sat Jan 20 17:44:21 2024\n"
          ]
        }
      ]
    }
  ]
}